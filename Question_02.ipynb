{
  "nbformat": 4,
  "nbformat_minor": 0,
  "metadata": {
    "colab": {
      "provenance": []
    },
    "kernelspec": {
      "name": "python3",
      "display_name": "Python 3"
    },
    "language_info": {
      "name": "python"
    }
  },
  "cells": [
    {
      "cell_type": "code",
      "execution_count": 11,
      "metadata": {
        "id": "02JyGdw3Ycdu"
      },
      "outputs": [],
      "source": [
        "# Date: 18th September 2023\n",
        "# CSC461 - Assignment1 - Web Scraping\n",
        "# Name: Muhammad Anas\n",
        "# Registration No.: Fa21-BSE-126\n",
        "# Question 2: scrape the information from the \"timeanddate\" and \"britannica\" websites for your birthdate (04 November)"
      ]
    },
    {
      "cell_type": "code",
      "source": [
        "import requests\n",
        "import time\n",
        "from bs4 import BeautifulSoup"
      ],
      "metadata": {
        "id": "xXvCmQZiYwFk"
      },
      "execution_count": 12,
      "outputs": []
    },
    {
      "cell_type": "code",
      "source": [
        "timeanddate_url=\"https://www.timeanddate.com/on-this-day/\"\n",
        "britannica_url=\"https://www.britannica.com/on-this-day/November-4\""
      ],
      "metadata": {
        "id": "f_JB4bBsYwzV"
      },
      "execution_count": 13,
      "outputs": []
    },
    {
      "cell_type": "code",
      "source": [
        "url1 = requests.get(timeanddate_url)\n",
        "url2 = requests.get(britannica_url)"
      ],
      "metadata": {
        "id": "d7pFBPM_Y2iT"
      },
      "execution_count": 14,
      "outputs": []
    },
    {
      "cell_type": "code",
      "source": [
        "url1soup = BeautifulSoup(url1.text , 'html')\n",
        "url2soup = BeautifulSoup(url2.text , 'html')"
      ],
      "metadata": {
        "id": "bo7H-yM-Z7BK"
      },
      "execution_count": 15,
      "outputs": []
    },
    {
      "cell_type": "code",
      "source": [
        "data =[]\n",
        "with open(\"data.txt\", \"w\") as file:\n",
        "  for i in url1soup.find_all('ul' ,attrs={'class' : 'list--big'}):\n",
        "    file.write(i.li.h3.text + \"\\n\")"
      ],
      "metadata": {
        "id": "s9pT-ZrybJdq"
      },
      "execution_count": 16,
      "outputs": []
    },
    {
      "cell_type": "code",
      "source": [],
      "metadata": {
        "id": "ajQMAoR8bh5r",
        "colab": {
          "base_uri": "https://localhost:8080/"
        },
        "outputId": "9e69cd47-6b74-4225-cd16-0fc7258b641a"
      },
      "execution_count": 17,
      "outputs": [
        {
          "output_type": "execute_result",
          "data": {
            "text/plain": [
              "<_io.TextIOWrapper name='data.txt' mode='w' encoding='UTF-8'>"
            ]
          },
          "metadata": {},
          "execution_count": 17
        }
      ]
    },
    {
      "cell_type": "code",
      "source": [],
      "metadata": {
        "id": "dOAMIahZcvGK"
      },
      "execution_count": null,
      "outputs": []
    }
  ]
}